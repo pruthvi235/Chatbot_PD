{
 "cells": [
  {
   "cell_type": "code",
   "execution_count": 1,
   "id": "a011cc16",
   "metadata": {},
   "outputs": [
    {
     "name": "stdout",
     "output_type": "stream",
     "text": [
      "Requirement already satisfied: langchain==0.0.279 in c:\\users\\pruth\\anaconda3\\lib\\site-packages (0.0.279)\n",
      "Requirement already satisfied: PyYAML>=5.3 in c:\\users\\pruth\\anaconda3\\lib\\site-packages (from langchain==0.0.279) (6.0)\n",
      "Requirement already satisfied: SQLAlchemy<3,>=1.4 in c:\\users\\pruth\\anaconda3\\lib\\site-packages (from langchain==0.0.279) (1.4.39)\n",
      "Requirement already satisfied: aiohttp<4.0.0,>=3.8.3 in c:\\users\\pruth\\anaconda3\\lib\\site-packages (from langchain==0.0.279) (3.8.3)\n",
      "Requirement already satisfied: dataclasses-json<0.6.0,>=0.5.7 in c:\\users\\pruth\\anaconda3\\lib\\site-packages (from langchain==0.0.279) (0.5.14)\n",
      "Requirement already satisfied: langsmith<0.1.0,>=0.0.21 in c:\\users\\pruth\\anaconda3\\lib\\site-packages (from langchain==0.0.279) (0.0.41)\n",
      "Requirement already satisfied: numexpr<3.0.0,>=2.8.4 in c:\\users\\pruth\\anaconda3\\lib\\site-packages (from langchain==0.0.279) (2.8.4)\n",
      "Requirement already satisfied: numpy<2,>=1 in c:\\users\\pruth\\anaconda3\\lib\\site-packages (from langchain==0.0.279) (1.24.3)\n",
      "Requirement already satisfied: pydantic<3,>=1 in c:\\users\\pruth\\anaconda3\\lib\\site-packages (from langchain==0.0.279) (1.10.12)\n",
      "Requirement already satisfied: requests<3,>=2 in c:\\users\\pruth\\anaconda3\\lib\\site-packages (from langchain==0.0.279) (2.31.0)\n",
      "Requirement already satisfied: tenacity<9.0.0,>=8.1.0 in c:\\users\\pruth\\anaconda3\\lib\\site-packages (from langchain==0.0.279) (8.2.2)\n",
      "Requirement already satisfied: attrs>=17.3.0 in c:\\users\\pruth\\anaconda3\\lib\\site-packages (from aiohttp<4.0.0,>=3.8.3->langchain==0.0.279) (22.1.0)\n",
      "Requirement already satisfied: charset-normalizer<3.0,>=2.0 in c:\\users\\pruth\\anaconda3\\lib\\site-packages (from aiohttp<4.0.0,>=3.8.3->langchain==0.0.279) (2.0.4)\n",
      "Requirement already satisfied: multidict<7.0,>=4.5 in c:\\users\\pruth\\anaconda3\\lib\\site-packages (from aiohttp<4.0.0,>=3.8.3->langchain==0.0.279) (6.0.2)\n",
      "Requirement already satisfied: async-timeout<5.0,>=4.0.0a3 in c:\\users\\pruth\\anaconda3\\lib\\site-packages (from aiohttp<4.0.0,>=3.8.3->langchain==0.0.279) (4.0.2)\n",
      "Requirement already satisfied: yarl<2.0,>=1.0 in c:\\users\\pruth\\anaconda3\\lib\\site-packages (from aiohttp<4.0.0,>=3.8.3->langchain==0.0.279) (1.8.1)\n",
      "Requirement already satisfied: frozenlist>=1.1.1 in c:\\users\\pruth\\anaconda3\\lib\\site-packages (from aiohttp<4.0.0,>=3.8.3->langchain==0.0.279) (1.3.3)\n",
      "Requirement already satisfied: aiosignal>=1.1.2 in c:\\users\\pruth\\anaconda3\\lib\\site-packages (from aiohttp<4.0.0,>=3.8.3->langchain==0.0.279) (1.2.0)\n",
      "Requirement already satisfied: marshmallow<4.0.0,>=3.18.0 in c:\\users\\pruth\\anaconda3\\lib\\site-packages (from dataclasses-json<0.6.0,>=0.5.7->langchain==0.0.279) (3.20.1)\n",
      "Requirement already satisfied: typing-inspect<1,>=0.4.0 in c:\\users\\pruth\\anaconda3\\lib\\site-packages (from dataclasses-json<0.6.0,>=0.5.7->langchain==0.0.279) (0.9.0)\n",
      "Requirement already satisfied: typing-extensions>=4.2.0 in c:\\users\\pruth\\anaconda3\\lib\\site-packages (from pydantic<3,>=1->langchain==0.0.279) (4.7.1)\n",
      "Requirement already satisfied: idna<4,>=2.5 in c:\\users\\pruth\\anaconda3\\lib\\site-packages (from requests<3,>=2->langchain==0.0.279) (3.4)\n",
      "Requirement already satisfied: urllib3<3,>=1.21.1 in c:\\users\\pruth\\anaconda3\\lib\\site-packages (from requests<3,>=2->langchain==0.0.279) (1.26.16)\n",
      "Requirement already satisfied: certifi>=2017.4.17 in c:\\users\\pruth\\anaconda3\\lib\\site-packages (from requests<3,>=2->langchain==0.0.279) (2023.7.22)\n",
      "Requirement already satisfied: greenlet!=0.4.17 in c:\\users\\pruth\\anaconda3\\lib\\site-packages (from SQLAlchemy<3,>=1.4->langchain==0.0.279) (2.0.1)\n",
      "Requirement already satisfied: packaging>=17.0 in c:\\users\\pruth\\anaconda3\\lib\\site-packages (from marshmallow<4.0.0,>=3.18.0->dataclasses-json<0.6.0,>=0.5.7->langchain==0.0.279) (23.0)\n",
      "Requirement already satisfied: mypy-extensions>=0.3.0 in c:\\users\\pruth\\anaconda3\\lib\\site-packages (from typing-inspect<1,>=0.4.0->dataclasses-json<0.6.0,>=0.5.7->langchain==0.0.279) (0.4.3)\n",
      "Requirement already satisfied: openai==0.27.5 in c:\\users\\pruth\\anaconda3\\lib\\site-packages (0.27.5)\n",
      "Requirement already satisfied: requests>=2.20 in c:\\users\\pruth\\anaconda3\\lib\\site-packages (from openai==0.27.5) (2.31.0)\n",
      "Requirement already satisfied: tqdm in c:\\users\\pruth\\anaconda3\\lib\\site-packages (from openai==0.27.5) (4.65.0)\n",
      "Requirement already satisfied: aiohttp in c:\\users\\pruth\\anaconda3\\lib\\site-packages (from openai==0.27.5) (3.8.3)\n",
      "Requirement already satisfied: charset-normalizer<4,>=2 in c:\\users\\pruth\\anaconda3\\lib\\site-packages (from requests>=2.20->openai==0.27.5) (2.0.4)\n",
      "Requirement already satisfied: idna<4,>=2.5 in c:\\users\\pruth\\anaconda3\\lib\\site-packages (from requests>=2.20->openai==0.27.5) (3.4)\n",
      "Requirement already satisfied: urllib3<3,>=1.21.1 in c:\\users\\pruth\\anaconda3\\lib\\site-packages (from requests>=2.20->openai==0.27.5) (1.26.16)\n",
      "Requirement already satisfied: certifi>=2017.4.17 in c:\\users\\pruth\\anaconda3\\lib\\site-packages (from requests>=2.20->openai==0.27.5) (2023.7.22)\n",
      "Requirement already satisfied: attrs>=17.3.0 in c:\\users\\pruth\\anaconda3\\lib\\site-packages (from aiohttp->openai==0.27.5) (22.1.0)\n",
      "Requirement already satisfied: multidict<7.0,>=4.5 in c:\\users\\pruth\\anaconda3\\lib\\site-packages (from aiohttp->openai==0.27.5) (6.0.2)\n",
      "Requirement already satisfied: async-timeout<5.0,>=4.0.0a3 in c:\\users\\pruth\\anaconda3\\lib\\site-packages (from aiohttp->openai==0.27.5) (4.0.2)\n",
      "Requirement already satisfied: yarl<2.0,>=1.0 in c:\\users\\pruth\\anaconda3\\lib\\site-packages (from aiohttp->openai==0.27.5) (1.8.1)\n",
      "Requirement already satisfied: frozenlist>=1.1.1 in c:\\users\\pruth\\anaconda3\\lib\\site-packages (from aiohttp->openai==0.27.5) (1.3.3)\n",
      "Requirement already satisfied: aiosignal>=1.1.2 in c:\\users\\pruth\\anaconda3\\lib\\site-packages (from aiohttp->openai==0.27.5) (1.2.0)\n",
      "Requirement already satisfied: colorama in c:\\users\\pruth\\anaconda3\\lib\\site-packages (from tqdm->openai==0.27.5) (0.4.6)\n"
     ]
    }
   ],
   "source": [
    "!pip install langchain==0.0.279\n",
    "!pip install openai==0.27.5\n"
   ]
  },
  {
   "cell_type": "code",
   "execution_count": null,
   "id": "45b9d32d",
   "metadata": {},
   "outputs": [],
   "source": [
    "%pip install sentence_transformers -q"
   ]
  },
  {
   "cell_type": "code",
   "execution_count": null,
   "id": "e67b56f5",
   "metadata": {},
   "outputs": [],
   "source": [
    "!pip install unstructured -q\n",
    "!pip install unstructured[local-inference] -q\n",
    "!pip install detectron2@git+https://github.com/facebookresearch/detectron2.git@v0.6#egg=detectron2 -q\n",
    "     "
   ]
  },
  {
   "cell_type": "code",
   "execution_count": null,
   "id": "af71fa16",
   "metadata": {},
   "outputs": [],
   "source": [
    "!pip install poppler-utils  "
   ]
  },
  {
   "cell_type": "code",
   "execution_count": null,
   "id": "dcca1c38",
   "metadata": {},
   "outputs": [],
   "source": [
    "from langchain.document_loaders import DirectoryLoader\n",
    "\n",
    "directory = 'C:/Users/pruth/Downloads/llm_bot/data'\n",
    "\n",
    "def load_docs(directory):\n",
    "  loader = DirectoryLoader(directory)\n",
    "  documents = loader.load()\n",
    "  return documents\n",
    "\n",
    "documents = load_docs(directory)\n",
    "len(documents)"
   ]
  },
  {
   "cell_type": "code",
   "execution_count": null,
   "id": "2a6b602b",
   "metadata": {},
   "outputs": [],
   "source": [
    "from langchain.text_splitter import RecursiveCharacterTextSplitter\n",
    "\n",
    "def split_docs(documents,chunk_size=500,chunk_overlap=20):\n",
    "  text_splitter = RecursiveCharacterTextSplitter(chunk_size=chunk_size, chunk_overlap=chunk_overlap)\n",
    "  docs = text_splitter.split_documents(documents)\n",
    "  return docs\n",
    "\n",
    "docs = split_docs(documents)\n",
    "print(len(docs))"
   ]
  },
  {
   "cell_type": "code",
   "execution_count": null,
   "id": "dd40b356",
   "metadata": {},
   "outputs": [],
   "source": [
    "print(docs[8].page_content)"
   ]
  },
  {
   "cell_type": "code",
   "execution_count": null,
   "id": "56f2c241",
   "metadata": {},
   "outputs": [],
   "source": [
    "!pip install tiktoken -q"
   ]
  },
  {
   "cell_type": "code",
   "execution_count": null,
   "id": "efee9d56",
   "metadata": {},
   "outputs": [],
   "source": [
    "from langchain.embeddings import SentenceTransformerEmbeddings\n",
    "embeddings = SentenceTransformerEmbeddings(model_name=\"all-MiniLM-L6-v2\")"
   ]
  },
  {
   "cell_type": "code",
   "execution_count": null,
   "id": "8e80381d",
   "metadata": {},
   "outputs": [],
   "source": [
    "query_result = embeddings.embed_query(\"Hello world\")\n",
    "len(query_result)"
   ]
  },
  {
   "cell_type": "code",
   "execution_count": null,
   "id": "1233ff42",
   "metadata": {},
   "outputs": [],
   "source": [
    "%pip install pinecone-client "
   ]
  },
  {
   "cell_type": "code",
   "execution_count": null,
   "id": "1fc79f17",
   "metadata": {},
   "outputs": [],
   "source": [
    "# import pinecone      \n",
    "# from langchain.vectorstores import Pinecone\n",
    "\n",
    "# pinecone.init(      \n",
    "#     api_key='de3defb8-3e52-4ccf-82b1-9d785b981ec5',      \n",
    "#     environment='gcp-starter'      \n",
    "# )      \n",
    "# index = pinecone.Index('langchain-chatbot')\n",
    "\n",
    "import pinecone \n",
    "from langchain.vectorstores import Pinecone\n",
    "\n",
    "pinecone.init(\n",
    "    api_key=\"de3defb8-3e52-4ccf-82b1-9d785b981ec5\",  # find at app.pinecone.io\n",
    "    environment=\"gcp-starter\"  # next to api key in console\n",
    ")\n",
    "\n",
    "index_name = \"langchain-chatbot\"\n",
    "\n",
    "index = Pinecone.from_documents(docs, embeddings, index_name=index_name)"
   ]
  },
  {
   "cell_type": "code",
   "execution_count": null,
   "id": "c1c82a9c",
   "metadata": {},
   "outputs": [],
   "source": [
    "def get_similiar_docs(query,k=1,score=True):\n",
    "  if score:\n",
    "    similar_docs = index.similarity_search_with_score(query,k=k)\n",
    "  else:\n",
    "    similar_docs = index.similarity_search(query,k=k)\n",
    "  return similar_docs\n",
    "\n",
    "query = \"Can you explain the key provisions of the Mines Act\"\n",
    "similar_docs = get_similiar_docs(query)\n",
    "similar_docs\n"
   ]
  },
  {
   "cell_type": "code",
   "execution_count": null,
   "id": "0e8db2f4",
   "metadata": {},
   "outputs": [],
   "source": []
  }
 ],
 "metadata": {
  "kernelspec": {
   "display_name": "Python 3 (ipykernel)",
   "language": "python",
   "name": "python3"
  },
  "language_info": {
   "codemirror_mode": {
    "name": "ipython",
    "version": 3
   },
   "file_extension": ".py",
   "mimetype": "text/x-python",
   "name": "python",
   "nbconvert_exporter": "python",
   "pygments_lexer": "ipython3",
   "version": "3.11.4"
  }
 },
 "nbformat": 4,
 "nbformat_minor": 5
}
